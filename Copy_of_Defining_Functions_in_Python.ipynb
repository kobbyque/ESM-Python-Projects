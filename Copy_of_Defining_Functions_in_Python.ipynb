{
  "nbformat": 4,
  "nbformat_minor": 0,
  "metadata": {
    "colab": {
      "provenance": [],
      "include_colab_link": true
    },
    "kernelspec": {
      "name": "python3",
      "display_name": "Python 3"
    },
    "language_info": {
      "name": "python"
    }
  },
  "cells": [
    {
      "cell_type": "markdown",
      "metadata": {
        "id": "view-in-github",
        "colab_type": "text"
      },
      "source": [
        "<a href=\"https://colab.research.google.com/github/kobbyque/ESM-Python-Projects/blob/main/Copy_of_Defining_Functions_in_Python.ipynb\" target=\"_parent\"><img src=\"https://colab.research.google.com/assets/colab-badge.svg\" alt=\"Open In Colab\"/></a>"
      ]
    },
    {
      "cell_type": "markdown",
      "source": [
        "# Functions in Python - Colab Notebook"
      ],
      "metadata": {
        "id": "wmRXbPeivc_8"
      }
    },
    {
      "cell_type": "markdown",
      "source": [
        "#### Introduction to Functions\n",
        "\n",
        "A function is a block of code that performs a specified task. Functions help organize your code and make it more readable, maintainable, and reusable.\n"
      ],
      "metadata": {
        "id": "olALzo-Rvkz9"
      }
    },
    {
      "cell_type": "markdown",
      "source": [
        "## Table of Contents\n",
        "\n",
        "1. Why Use Functions?\n",
        "2. Types of Functions\n",
        "    - Nothing goes in, nothing comes out.\n",
        "    - Nothing goes in, something comes out.\n",
        "    - Something goes in, nothing comes out.\n",
        "    - Something goes in, something comes out.\n",
        "3. Interesting Examples and Use Cases\n",
        "4. Try It Yourself\n",
        "5. Exercises"
      ],
      "metadata": {
        "id": "Wx49-tx5vo2M"
      }
    },
    {
      "cell_type": "markdown",
      "source": [
        "## Why Use Functions?\n",
        "\n",
        "- **Readability**: Functions make a program easier to read and understand.\n",
        "- **Reduction in Code Duplication**: Functions reduce code duplication.\n",
        "- **Reusability**: Functions allow the code to be reused.\n",
        "\n",
        "Most of the time, we provide some arguments to a function, and it returns something. However, this may not always be the case. When writing a function, we need to decide if the function needs any arguments or not, and if the function needs to return something or not.\n",
        "\n",
        "\n"
      ],
      "metadata": {
        "id": "BnsvOanvvr74"
      }
    },
    {
      "cell_type": "markdown",
      "source": [
        "## Syntax of Functions\n",
        "\n",
        "The basic syntax for defining a function in Python is as follows:\n",
        "\n"
      ],
      "metadata": {
        "id": "y01qnTnOwm0h"
      }
    },
    {
      "cell_type": "code",
      "source": [
        "def function_name(parameters):\n",
        "    \"\"\"\n",
        "    Optional: Docstring to describe the function.\n",
        "    \"\"\"\n",
        "    # Code block\n",
        "    return result  # Optional: return statement\n"
      ],
      "metadata": {
        "id": "VYpcBUZowjbT"
      },
      "execution_count": null,
      "outputs": []
    },
    {
      "cell_type": "markdown",
      "source": [
        "* `def`: This keyword is used to declare a function.\n",
        "* `function_name`: This is the name of the function. It should be descriptive and follow standard naming conventions.\n",
        "* `parameters`: These are the inputs to the function. They are optional and can be zero or more.\n",
        "* `\"\"\"Docstring\"\"\"`: This is an optional string to describe what the function does.\n",
        "* `return`: This is an optional statement to return a value from the function.\n",
        "\n",
        "### Example: Write a function that echoes the input that it takes."
      ],
      "metadata": {
        "id": "P7cLCXPlwpfQ"
      }
    },
    {
      "cell_type": "code",
      "source": [
        "# we use the def keyword\n",
        "# then write the function name\n",
        "# then define the function inputs\n",
        "def echo(user_input):\n",
        "\n",
        "  # this will print whatever is sent to this function\n",
        "  print(user_input)"
      ],
      "metadata": {
        "id": "JhVskJ7KxQmu"
      },
      "execution_count": null,
      "outputs": []
    },
    {
      "cell_type": "code",
      "source": [
        "echo('Hello World')"
      ],
      "metadata": {
        "colab": {
          "base_uri": "https://localhost:8080/"
        },
        "id": "0jSrKVppxlEX",
        "outputId": "1754360f-a897-4435-a3ff-4121cb665942"
      },
      "execution_count": null,
      "outputs": [
        {
          "output_type": "stream",
          "name": "stdout",
          "text": [
            "Hello World\n"
          ]
        }
      ]
    },
    {
      "cell_type": "code",
      "source": [
        "echo('An apple a day keeps anyone away, if you throw it hard enough.')"
      ],
      "metadata": {
        "colab": {
          "base_uri": "https://localhost:8080/"
        },
        "id": "MN7k55CExqCm",
        "outputId": "d7de59d2-ebbc-4cf1-e35b-549155a6f683"
      },
      "execution_count": null,
      "outputs": [
        {
          "output_type": "stream",
          "name": "stdout",
          "text": [
            "An apple a day keeps anyone away, if you throw it hard enough.\n"
          ]
        }
      ]
    },
    {
      "cell_type": "markdown",
      "source": [
        "Broadly, we can classify the combination of function parameters and their return types as follows:"
      ],
      "metadata": {
        "id": "cb0P2ZMMworX"
      }
    },
    {
      "cell_type": "markdown",
      "source": [
        "### Types of Functions\n",
        "\n",
        "#### 1. Nothing Goes In, Nothing Comes Out\n",
        "\n",
        "This type of function neither takes any input nor returns any output.\n",
        "\n",
        "**Example:**"
      ],
      "metadata": {
        "id": "8zfFMlgZvvHF"
      }
    },
    {
      "cell_type": "code",
      "source": [
        "def greet():\n",
        "    print(\"Hello, world!\")\n",
        "\n",
        "# Calling the function\n",
        "greet()"
      ],
      "metadata": {
        "id": "vKS-vIvtv4Sd"
      },
      "execution_count": null,
      "outputs": []
    },
    {
      "cell_type": "markdown",
      "source": [
        "**Explanation:**\n",
        "- The `greet` function does not take any arguments and does not return anything. It simply prints a message."
      ],
      "metadata": {
        "id": "rTPTRtamyfDH"
      }
    },
    {
      "cell_type": "markdown",
      "source": [
        "#### 2. Nothing Goes In, Something Comes Out\n",
        "\n",
        "This type of function does not take any input but returns an output.\n",
        "\n",
        "**Example:**"
      ],
      "metadata": {
        "id": "EUHL5_W-yiBI"
      }
    },
    {
      "cell_type": "code",
      "source": [
        "def get_pi():\n",
        "    return 3.14159\n",
        "\n",
        "# Calling the function and storing the return value in a variable\n",
        "pi_value = get_pi()\n",
        "print(f\"Value of Pi: {pi_value}\")"
      ],
      "metadata": {
        "id": "iEOMOnrgyl_l"
      },
      "execution_count": null,
      "outputs": []
    },
    {
      "cell_type": "markdown",
      "source": [
        "**Explanation:**\n",
        "- The `get_pi` function does not take any arguments but returns the value of Pi."
      ],
      "metadata": {
        "id": "QkxlLLhuyqFu"
      }
    },
    {
      "cell_type": "markdown",
      "source": [
        "#### 3. Something Goes In, Nothing Comes Out\n",
        "\n",
        "This type of function takes input but does not return any output.\n",
        "\n",
        "**Example:**"
      ],
      "metadata": {
        "id": "LzhX27zVytOZ"
      }
    },
    {
      "cell_type": "code",
      "source": [
        "def greet_person(name):\n",
        "    print(f\"Hello, {name}!\")\n",
        "\n",
        "# Calling the function with an argument\n",
        "greet_person(\"Alice\")"
      ],
      "metadata": {
        "id": "iUnV9tDcyvMG"
      },
      "execution_count": null,
      "outputs": []
    },
    {
      "cell_type": "markdown",
      "source": [
        "**Explanation:**\n",
        "- The `greet_person` function takes a `name` as an argument and prints a personalized greeting message."
      ],
      "metadata": {
        "id": "Y_i83OCByxqf"
      }
    },
    {
      "cell_type": "markdown",
      "source": [
        "#### 4. Something Goes In, Something Comes Out\n",
        "\n",
        "This type of function takes input and returns an output.\n",
        "\n",
        "**Example:**"
      ],
      "metadata": {
        "id": "R-glLTaDyzp5"
      }
    },
    {
      "cell_type": "code",
      "source": [
        "def add_numbers(a, b):\n",
        "    return a + b\n",
        "\n",
        "# Calling the function with arguments and storing the return value in a variable\n",
        "sum_result = add_numbers(5, 3)\n",
        "print(f\"Sum: {sum_result}\")"
      ],
      "metadata": {
        "id": "WhaT-DWWy19h"
      },
      "execution_count": null,
      "outputs": []
    },
    {
      "cell_type": "markdown",
      "source": [
        "**Explanation:**\n",
        "- The `add_numbers` function takes two arguments, `a` and `b`, and returns their sum.\n"
      ],
      "metadata": {
        "id": "NFXu6Aph0IpA"
      }
    },
    {
      "cell_type": "markdown",
      "source": [
        "### Interesting Examples and Use Cases\n",
        "\n",
        "**Example: Calculating the Area of a Circle**\n",
        "You want to create a function that calculates the area of a circle given its radius."
      ],
      "metadata": {
        "id": "7hpaAEyt0Jt7"
      }
    },
    {
      "cell_type": "code",
      "source": [
        "def calculate_area(radius):\n",
        "    pi = 3.14159\n",
        "    return pi * (radius ** 2)\n",
        "\n",
        "# Calling the function with an argument and printing the result\n",
        "area = calculate_area(5)\n",
        "print(f\"Area of the circle: {area}\")"
      ],
      "metadata": {
        "id": "AJGGes0P0Omh"
      },
      "execution_count": null,
      "outputs": []
    },
    {
      "cell_type": "markdown",
      "source": [
        "### Try It Yourself\n",
        "\n",
        "**Example: Calculating the Average of a List**\n",
        "\n",
        "You want to create a function that calculates the average of a list of numbers.\n"
      ],
      "metadata": {
        "id": "LUZzo9Dz0Zc5"
      }
    },
    {
      "cell_type": "code",
      "source": [
        "def calculate_average(numbers):\n",
        "    # Remove this pass line when you are done writing the function\n",
        "    pass\n",
        "    #### Write your function here\n",
        "\n",
        "\n",
        "    #### your function ends here\n",
        "\n",
        "# Output expected: 30\n",
        "my_numbers = [10, 20, 30, 40, 50]\n",
        "average = calculate_average(my_numbers)\n",
        "print(f\"Average: {average}\")\n",
        "\n",
        "# Output expected: 25\n",
        "your_numbers = [5, 15, 25, 35, 45]\n",
        "your_average = calculate_average(your_numbers)\n",
        "print(f\"Your average: {your_average}\")"
      ],
      "metadata": {
        "colab": {
          "base_uri": "https://localhost:8080/"
        },
        "id": "5bbok87N0e4w",
        "outputId": "01ad8028-d9f0-494d-def5-60809ab06fc8"
      },
      "execution_count": null,
      "outputs": [
        {
          "output_type": "stream",
          "name": "stdout",
          "text": [
            "Average: None\n",
            "Your average: None\n"
          ]
        }
      ]
    },
    {
      "cell_type": "markdown",
      "source": [
        "### Exercises\n",
        "\n",
        "**Exercise 1: Convert Temperature**\n",
        "Write a function that converts a temperature from Celsius to Fahrenheit."
      ],
      "metadata": {
        "id": "fxKDpXrE1IBv"
      }
    },
    {
      "cell_type": "code",
      "source": [
        "def celsius_to_fahrenheit(celsius):\n",
        "    # Remove this pass line when you are done writing the function\n",
        "    pass\n",
        "    #### Write your function here\n",
        "\n",
        "\n",
        "    #### your function ends here\n",
        "\n",
        " # Test the function\n",
        "temp_fahrenheit = celsius_to_fahrenheit(25)\n",
        "print(f\"Temperature in Fahrenheit: {temp_fahrenheit}\")"
      ],
      "metadata": {
        "id": "jJjZk6CV1HFp",
        "outputId": "ddb51cb1-25ed-4dfc-bf19-7c92f6d6e238",
        "colab": {
          "base_uri": "https://localhost:8080/"
        }
      },
      "execution_count": null,
      "outputs": [
        {
          "output_type": "stream",
          "name": "stdout",
          "text": [
            "Temperature in Fahrenheit: None\n"
          ]
        }
      ]
    },
    {
      "cell_type": "markdown",
      "source": [
        "**Exercise 2: Check Even or Odd**\n",
        "Write a function that checks whether a given number is even or odd.\n",
        "\n",
        "Function name should be `is_even` and it should take a number as input.  "
      ],
      "metadata": {
        "id": "rDTBHI1s1UBU"
      }
    },
    {
      "cell_type": "code",
      "source": [
        "def is_even(number):\n",
        "    if number % 2 == 0:\n",
        "        print(\"Even\")\n",
        "    else:\n",
        "        print(\"Odd\")\n",
        "\n",
        "is_even(7)\n",
        "is_even(10)"
      ],
      "metadata": {
        "id": "kvApLivg1fgr",
        "outputId": "3e40d945-2c30-4653-c63a-7688780a49c7",
        "colab": {
          "base_uri": "https://localhost:8080/"
        }
      },
      "execution_count": null,
      "outputs": [
        {
          "output_type": "stream",
          "name": "stdout",
          "text": [
            "Odd\n",
            "Even\n"
          ]
        }
      ]
    },
    {
      "cell_type": "markdown",
      "source": [
        "**Exercise 3: Find Maximum**\n",
        "Write a function that returns the maximum of two numbers.\n"
      ],
      "metadata": {
        "id": "_KpaHU1O1lNS"
      }
    },
    {
      "cell_type": "code",
      "source": [
        "def find_max(a, b):\n",
        "    if a > b:\n",
        "        return a\n",
        "    else:\n",
        "        return b\n",
        "\n",
        "print(find_max(10, 20))\n",
        "print(find_max(50, 25))"
      ],
      "metadata": {
        "id": "NvN6SF7c1kZ_",
        "outputId": "cf992e4b-e19a-4cbe-99ae-da307d0cd611",
        "colab": {
          "base_uri": "https://localhost:8080/"
        }
      },
      "execution_count": null,
      "outputs": [
        {
          "output_type": "stream",
          "name": "stdout",
          "text": [
            "20\n",
            "50\n"
          ]
        }
      ]
    },
    {
      "cell_type": "markdown",
      "source": [
        "**Exercise 4: Calculate Factorial**\n",
        "Write a function that calculates the factorial of a given number."
      ],
      "metadata": {
        "id": "YjtD8wKS1oPD"
      }
    },
    {
      "cell_type": "code",
      "source": [
        "def factorial(n):\n",
        "    result = 1\n",
        "    for i in range(1, n + 1):\n",
        "        result *= i\n",
        "    return result\n",
        "\n",
        "print(factorial(5))\n",
        "print(factorial(7))"
      ],
      "metadata": {
        "id": "fNOTM5kM1uZz",
        "outputId": "0f367ffc-8ada-43b0-94af-ac12b1c51fb6",
        "colab": {
          "base_uri": "https://localhost:8080/"
        }
      },
      "execution_count": null,
      "outputs": [
        {
          "output_type": "stream",
          "name": "stdout",
          "text": [
            "120\n",
            "5040\n"
          ]
        }
      ]
    },
    {
      "cell_type": "markdown",
      "source": [
        "\n",
        "**Exercise 5: Reverse a String**\n",
        "Write a function that reverses a given string."
      ],
      "metadata": {
        "id": "HBsd03f61utQ"
      }
    },
    {
      "cell_type": "code",
      "source": [
        "def reverse_string(text):\n",
        "    return text[::-1]\n",
        "\n",
        "print(reverse_string(\"Python\"))\n",
        "print(reverse_string(\"Hello\"))"
      ],
      "metadata": {
        "id": "ImTn1U1K1wBo",
        "outputId": "7ebedf00-7b8e-4de7-fe15-7994fa6bea5a",
        "colab": {
          "base_uri": "https://localhost:8080/"
        }
      },
      "execution_count": null,
      "outputs": [
        {
          "output_type": "stream",
          "name": "stdout",
          "text": [
            "nohtyP\n",
            "olleH\n"
          ]
        }
      ]
    },
    {
      "cell_type": "markdown",
      "source": [
        "**Exercise 6: Count Vowels in a String**\n",
        "Write a function that counts the number of vowels in a given string."
      ],
      "metadata": {
        "id": "7HfhAsB51wp2"
      }
    },
    {
      "cell_type": "code",
      "source": [
        "def count_vowels(text):\n",
        "    vowels = \"aeiouAEIOU\"\n",
        "    count = 0\n",
        "    for ch in text:\n",
        "        if ch in vowels:\n",
        "            count += 1\n",
        "    return count\n",
        "\n",
        "print(count_vowels(\"programming\"))\n",
        "print(count_vowels(\"Hello World\"))\n"
      ],
      "metadata": {
        "id": "HMvikNJB11Av",
        "outputId": "ef176a82-5a00-4d84-b69d-c9cb88860f4c",
        "colab": {
          "base_uri": "https://localhost:8080/"
        }
      },
      "execution_count": null,
      "outputs": [
        {
          "output_type": "stream",
          "name": "stdout",
          "text": [
            "3\n",
            "3\n"
          ]
        }
      ]
    },
    {
      "cell_type": "markdown",
      "source": [
        "### Conclusion\n",
        "\n",
        "Functions are an essential part of programming in Python. They help you organize your code, reduce duplication, and make your programs more modular and easier to understand. Practice creating and using functions to enhance your programming skills and make your code more efficient."
      ],
      "metadata": {
        "id": "RdPy4_Vivg-p"
      }
    }
  ]
}